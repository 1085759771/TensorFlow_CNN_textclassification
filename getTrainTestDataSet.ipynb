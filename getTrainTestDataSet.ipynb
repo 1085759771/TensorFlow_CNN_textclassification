{
 "cells": [
  {
   "cell_type": "code",
   "execution_count": 1,
   "metadata": {
    "collapsed": true
   },
   "outputs": [],
   "source": [
    "import pandas as pd\n",
    "\n",
    "train_df = pd.read_csv('sohu_train.txt', sep='\\t', header=None)\n",
    "test_df = pd.read_csv('sohu_test.txt', sep='\\t', header=None)"
   ]
  },
  {
   "cell_type": "code",
   "execution_count": 2,
   "metadata": {},
   "outputs": [
    {
     "data": {
      "text/html": [
       "<div>\n",
       "<style scoped>\n",
       "    .dataframe tbody tr th:only-of-type {\n",
       "        vertical-align: middle;\n",
       "    }\n",
       "\n",
       "    .dataframe tbody tr th {\n",
       "        vertical-align: top;\n",
       "    }\n",
       "\n",
       "    .dataframe thead th {\n",
       "        text-align: right;\n",
       "    }\n",
       "</style>\n",
       "<table border=\"1\" class=\"dataframe\">\n",
       "  <thead>\n",
       "    <tr style=\"text-align: right;\">\n",
       "      <th></th>\n",
       "      <th>0</th>\n",
       "      <th>1</th>\n",
       "    </tr>\n",
       "  </thead>\n",
       "  <tbody>\n",
       "    <tr>\n",
       "      <th>0</th>\n",
       "      <td>娱乐</td>\n",
       "      <td>《青蛇》造型师默认新《红楼梦》额妆抄袭（图） 凡是看过电影《青蛇》的人，都不会忘记青白二蛇的...</td>\n",
       "    </tr>\n",
       "    <tr>\n",
       "      <th>1</th>\n",
       "      <td>娱乐</td>\n",
       "      <td>６．１６日剧榜　＜最后的朋友＞　亮最后杀招成功登顶 《最后的朋友》本周的电视剧排行榜单依然只...</td>\n",
       "    </tr>\n",
       "    <tr>\n",
       "      <th>2</th>\n",
       "      <td>娱乐</td>\n",
       "      <td>超乎想象的好看《纳尼亚传奇２：凯斯宾王子》 现时资讯如此发达，搜狐电影评审团几乎人人在没有看...</td>\n",
       "    </tr>\n",
       "    <tr>\n",
       "      <th>3</th>\n",
       "      <td>娱乐</td>\n",
       "      <td>吴宇森：赤壁大战不会出现在上集 “希望《赤壁》能给你们不一样的感觉。”对于自己刚刚拍完的影片...</td>\n",
       "    </tr>\n",
       "    <tr>\n",
       "      <th>4</th>\n",
       "      <td>娱乐</td>\n",
       "      <td>组图：《多情女人痴情男》陈浩民现场耍宝 陈浩民：外面的朋友大家好，现在是搜狐现场直播，欢迎《...</td>\n",
       "    </tr>\n",
       "  </tbody>\n",
       "</table>\n",
       "</div>"
      ],
      "text/plain": [
       "    0                                                  1\n",
       "0  娱乐  《青蛇》造型师默认新《红楼梦》额妆抄袭（图） 凡是看过电影《青蛇》的人，都不会忘记青白二蛇的...\n",
       "1  娱乐  ６．１６日剧榜　＜最后的朋友＞　亮最后杀招成功登顶 《最后的朋友》本周的电视剧排行榜单依然只...\n",
       "2  娱乐  超乎想象的好看《纳尼亚传奇２：凯斯宾王子》 现时资讯如此发达，搜狐电影评审团几乎人人在没有看...\n",
       "3  娱乐  吴宇森：赤壁大战不会出现在上集 “希望《赤壁》能给你们不一样的感觉。”对于自己刚刚拍完的影片...\n",
       "4  娱乐  组图：《多情女人痴情男》陈浩民现场耍宝 陈浩民：外面的朋友大家好，现在是搜狐现场直播，欢迎《..."
      ]
     },
     "execution_count": 2,
     "metadata": {},
     "output_type": "execute_result"
    }
   ],
   "source": [
    "train_df.head()"
   ]
  },
  {
   "cell_type": "code",
   "execution_count": 3,
   "metadata": {
    "collapsed": true
   },
   "outputs": [],
   "source": [
    "train_content_list = [k for k in train_df[1]]\n",
    "train_label_list = [k for k in train_df[0]]"
   ]
  },
  {
   "cell_type": "code",
   "execution_count": 4,
   "metadata": {},
   "outputs": [
    {
     "data": {
      "text/plain": [
       "list"
      ]
     },
     "execution_count": 4,
     "metadata": {},
     "output_type": "execute_result"
    }
   ],
   "source": [
    "type(train_content_list)"
   ]
  },
  {
   "cell_type": "code",
   "execution_count": 5,
   "metadata": {},
   "outputs": [
    {
     "data": {
      "text/plain": [
       "'《青蛇》造型师默认新《红楼梦》额妆抄袭（图） 凡是看过电影《青蛇》的人，都不会忘记青白二蛇的经典造型：飘逸的身材，妩媚的妆容，而最独特的就是取材于京剧女角头型的精华之处“打片子”（也被称之为额妆）。１３年后的今天，大家又在新版《红楼梦》的定妆照里看到这种熟悉的妆容“打片子”。昨日，有知情人向记者报料：叶锦添抄袭的就是香港另一著名造型师吴宝玲的作品。记者立即致电正在香港的吴宝玲，当记者问到同是一个行业的叶锦添是否抄袭其旧作时，吴宝玲比较委婉地说：“还是有一点点吧。不过我也不好说什么，毕竟已经过去这么多年，新一代的年轻人或许并不熟悉过去的电影。”《青蛇》中王祖贤造型首次用到“打片子”新《红楼梦》造型中袭人衣着华贵（李艳饰）程媛媛饰演平儿贾链公子哥气质（王龙华饰）回忆：“青白二蛇”这样“打片子”说起吴宝玲，许多人都会感到非常陌生，但是一提到《画中仙》、《倩女幽魂２》、《刀马旦》、《笑傲江湖》、《白发魔女２》、《青蛇》等电影，以及《京城四少》、《白娘子传奇》、《倚天屠龙记》、《小李飞刀》等电视剧，肯定记忆犹新。这些影视剧的造型师就是这位吴宝玲，可以说，她的服装创意几乎影响了一个时代的古装电影审美。在新版《红楼梦》的定妆照在网上公布出现以后，就有内地的朋友发现里面的“打片子”和《青蛇》的用法十分相似，特意打电话告诉吴宝玲，吴宝玲昨日告诉记者：“看到这些造型，我认为用得可能不是十分到位。”她回忆起十几年前为什么会单单选择用戏剧中“打片子”这样的形式：“因为徐克给我看了剧本，我就了解到人物必须非常妩媚，传统的东西也应该出来，马上就能够脱颖而出，所以就想起小时候看粤剧的时候，演员用的＂打片子＂，我想电影里面会有很多特技、灯光、神怪、风吹、雨雪，这种气氛整合起来就蛮独特的，而＂打片子＂这种手法本身就非常独特，一般的电影不可能用，因为很难找到合适的地方来达到这种高度和谐，但是在《青蛇》里面却可以。”确定了自己的想法后，她就大胆地开始进行人物造型设计，包括如何突出王祖贤、张曼玉的身段和气质，摒弃掉传统戏曲里面的那种大袖，而是进行了直筒的裁剪，这才形成了我们熟悉的经典形象“青白二蛇”。吴宝玲告诉记者，其实在一部戏里面，一个演员的形象是否成功突出，很大程度上取决于头部的设计，所以这也很考验一个造型师的胆量。评价：新《红楼梦》“打片子”显老态对于由叶锦添设计的新版《红楼梦》女性人物造型普遍采用“打片子”这一做法，吴宝玲一开始说得比较客气：“其实这也是大家的取材相同而已，因为都来自京剧，没有说好或者不好，大家手法不一样罢了。”但是提到这种造型所带来的效果时，这位曾经成功使用“打片子”的造型师则显得有些不吐不快：“其实这样做会有一点压制那些年轻人的活力。大家都看过《红楼梦》，都了解里面的人物其实都蛮小的，当年我给王祖贤做这个设计的时候也反复考虑过它的弊端，因为这其实会有一些显老气，她那时候也不过３０岁。这部戏却大面积地使用这种手法，妆似乎也有一点浓，头发也做得有些死板，看来还是太戏曲化了。”由于吴宝玲在香港出道很早，所以无论是对造型设计本身还是对文化的钻研，都有独到之处，而且往往能把两者结合得很好，她甚至感觉新版《红楼梦》的设计缺乏文学性，“《红楼梦》本身就很让人很期待，假如我来设计造型的话，因为片中将出现很多生活场景，我可能会尽量做得不这么沉重，而且人物角色的感觉应该有所区分，薛宝钗就是薛宝钗，而不会分不清楚她和林黛玉。”最后吴宝玲表示，她还会观察一段时间，看后期的设计是否真的完全会对《青蛇》有所模仿，必要的时候她可能向法律寻找帮助。昨晚，记者致电新《红楼梦》导演李少红，但她的手机一直无人接听。（责任编辑：ＣＬ）'"
      ]
     },
     "execution_count": 5,
     "metadata": {},
     "output_type": "execute_result"
    }
   ],
   "source": [
    "train_content_list[0]"
   ]
  },
  {
   "cell_type": "code",
   "execution_count": 6,
   "metadata": {
    "collapsed": true
   },
   "outputs": [],
   "source": [
    "test_content_list = [k for k in test_df[1]]\n",
    "test_label_list = [k for k in test_df[0]]"
   ]
  },
  {
   "cell_type": "code",
   "execution_count": 7,
   "metadata": {
    "collapsed": true
   },
   "outputs": [],
   "source": [
    "import pickle"
   ]
  },
  {
   "cell_type": "code",
   "execution_count": 10,
   "metadata": {},
   "outputs": [],
   "source": [
    "with open('train_content_list.pickle', 'wb') as file:\n",
    "    pickle.dump(train_content_list, file)\n",
    "with open('train_label_list.pickle', 'wb') as file:\n",
    "    pickle.dump(train_label_list, file)\n",
    "with open('test_content_list.pickle', 'wb') as file:\n",
    "    pickle.dump(test_content_list, file)\n",
    "with open('test_label_list.pickle', 'wb') as file:\n",
    "    pickle.dump(test_label_list, file)"
   ]
  },
  {
   "cell_type": "code",
   "execution_count": null,
   "metadata": {
    "collapsed": true
   },
   "outputs": [],
   "source": []
  }
 ],
 "metadata": {
  "kernelspec": {
   "display_name": "Python 3",
   "language": "python",
   "name": "python3"
  },
  "language_info": {
   "codemirror_mode": {
    "name": "ipython",
    "version": 3
   },
   "file_extension": ".py",
   "mimetype": "text/x-python",
   "name": "python",
   "nbconvert_exporter": "python",
   "pygments_lexer": "ipython3",
   "version": "3.6.1"
  }
 },
 "nbformat": 4,
 "nbformat_minor": 2
}
